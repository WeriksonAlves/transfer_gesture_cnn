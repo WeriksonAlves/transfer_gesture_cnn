{
 "cells": [
  {
   "cell_type": "markdown",
   "id": "c4f8b9b3-432c-405f-9a40-23bca8b7640c",
   "metadata": {},
   "source": [
    "# Dados"
   ]
  },
  {
   "cell_type": "markdown",
   "id": "3a556587-af37-4e5e-86bb-f8adfb824d64",
   "metadata": {},
   "source": [
    "## Paths"
   ]
  },
  {
   "cell_type": "code",
   "execution_count": null,
   "id": "96c3958e-e658-43df-b587-929d2672b98c",
   "metadata": {},
   "outputs": [],
   "source": [
    "datasets_path     = 'datasets/annotated/'\n",
    "models_path       = 'results/models/'\n",
    "tensorboard_path  = 'results/Tensorboard/YOLO/'"
   ]
  },
  {
   "cell_type": "markdown",
   "id": "21cfd973-3f90-4d82-af67-82bbf591fc5f",
   "metadata": {},
   "source": [
    "## Dataloader"
   ]
  },
  {
   "cell_type": "code",
   "execution_count": null,
   "id": "e45d7c3b-bada-455d-bda1-a86badd1cdf1",
   "metadata": {},
   "outputs": [],
   "source": [
    "from torch.utils.data import DataLoader\n",
    "import torchvision\n",
    "\n",
    "import matplotlib.pyplot as plt\n",
    "import numpy as np\n",
    "\n",
    "def my_imshow(img, dataset, numImages=10):\n",
    "\n",
    "    if dataset == 'cifar10' :\n",
    "        img = img / 2 + 0.5     # unnormalize\n",
    "\n",
    "    img = torchvision.utils.make_grid(img[:numImages],nrow=numImages//2)\n",
    "\n",
    "    npimg = img.numpy()\n",
    "    npimg = np.transpose(npimg, (1, 2, 0))\n",
    "\n",
    "    plt.axis('off')\n",
    "    plt.imshow(npimg)\n",
    "    plt.show()\n",
    "\n",
    "def show_images(train_loader, test_loader, dataset, numImages=10) :\n",
    "    print('Train samples')\n",
    "    # get some random training images\n",
    "    dataiter = iter(train_loader)\n",
    "    images = next(dataiter)[0]\n",
    "    my_imshow(images, dataset, numImages)\n",
    "\n",
    "    print('Test samples')\n",
    "    # get some random training images\n",
    "    dataiter = iter(test_loader)\n",
    "    images = next(dataiter)[0]\n",
    "    my_imshow(images, dataset, numImages)\n",
    "\n",
    "def get_data_generic ( batch_size , show_image=False, numImages=8 ) :\n",
    "    train_dataset = f'{datasets_path}/train/'\n",
    "    test_dataset = f'{datasets_path}/test/'\n",
    "    train_loader = DataLoader(train_dataset, batch_size=batch_size, shuffle=True)\n",
    "    test_loader = DataLoader(test_dataset, batch_size=batch_size, shuffle=False)\n",
    "    \n",
    "    if show_image :\n",
    "        show_images(train_loader, test_loader, 'generic_gest', numImages)\n",
    "    \n",
    "    return train_loader, test_loader, len(train_dataset)\n",
    "\n",
    "def get_data_my ( batch_size , show_image=False, numImages=8 ) :\n",
    "    train_dataset = f'{datasets_path}/train/'\n",
    "    test_dataset = f'{datasets_path}/test/'\n",
    "    train_loader = DataLoader(train_dataset, batch_size=batch_size, shuffle=True)\n",
    "    test_loader = DataLoader(test_dataset, batch_size=batch_size, shuffle=False)\n",
    "\n",
    "    if show_image :\n",
    "        show_images(train_loader, test_loader, 'my_gest', numImages)\n",
    "\n",
    "    return train_loader, test_loader, len(train_dataset)"
   ]
  },
  {
   "cell_type": "code",
   "execution_count": null,
   "id": "37b84954-114e-44d7-9f70-b0f85ff7c691",
   "metadata": {},
   "outputs": [],
   "source": [
    "get_data_my(batch_size=256, show_image=True, numImages=16);"
   ]
  },
  {
   "cell_type": "markdown",
   "id": "dd13ea89-dfca-485a-a3bb-7147d7fdf022",
   "metadata": {},
   "source": [
    "# Rede"
   ]
  },
  {
   "cell_type": "markdown",
   "id": "b56a77de-aab4-4159-973f-02a216cf491a",
   "metadata": {},
   "source": [
    "## Arquitetura"
   ]
  },
  {
   "cell_type": "code",
   "execution_count": 3,
   "id": "63837bd4-2b92-4d60-a161-884e5eaa4737",
   "metadata": {},
   "outputs": [
    {
     "ename": "ModuleNotFoundError",
     "evalue": "No module named 'torch'",
     "output_type": "error",
     "traceback": [
      "\u001b[0;31m---------------------------------------------------------------------------\u001b[0m",
      "\u001b[0;31mModuleNotFoundError\u001b[0m                       Traceback (most recent call last)",
      "Cell \u001b[0;32mIn[3], line 1\u001b[0m\n\u001b[0;32m----> 1\u001b[0m \u001b[38;5;28;01mimport\u001b[39;00m \u001b[38;5;21;01mtorch\u001b[39;00m\n\u001b[1;32m      2\u001b[0m \u001b[38;5;28;01mimport\u001b[39;00m \u001b[38;5;21;01mtorch\u001b[39;00m\u001b[38;5;21;01m.\u001b[39;00m\u001b[38;5;21;01mnn\u001b[39;00m \u001b[38;5;28;01mas\u001b[39;00m \u001b[38;5;21;01mnn\u001b[39;00m\n\u001b[1;32m      3\u001b[0m \u001b[38;5;28;01mimport\u001b[39;00m \u001b[38;5;21;01mtorch\u001b[39;00m\u001b[38;5;21;01m.\u001b[39;00m\u001b[38;5;21;01mnn\u001b[39;00m\u001b[38;5;21;01m.\u001b[39;00m\u001b[38;5;21;01mfunctional\u001b[39;00m \u001b[38;5;28;01mas\u001b[39;00m \u001b[38;5;21;01mF\u001b[39;00m\n",
      "\u001b[0;31mModuleNotFoundError\u001b[0m: No module named 'torch'"
     ]
    }
   ],
   "source": [
    "import torch\n",
    "import torch.nn as nn\n",
    "import torch.nn.functional as F\n",
    "\n"
   ]
  },
  {
   "cell_type": "code",
   "execution_count": null,
   "id": "456a1a7d-8353-48d2-a172-866eb9eccd14",
   "metadata": {},
   "outputs": [],
   "source": []
  }
 ],
 "metadata": {
  "kernelspec": {
   "display_name": "Python 3 (ipykernel)",
   "language": "python",
   "name": "python3"
  },
  "language_info": {
   "codemirror_mode": {
    "name": "ipython",
    "version": 3
   },
   "file_extension": ".py",
   "mimetype": "text/x-python",
   "name": "python",
   "nbconvert_exporter": "python",
   "pygments_lexer": "ipython3",
   "version": "3.10.12"
  }
 },
 "nbformat": 4,
 "nbformat_minor": 5
}
